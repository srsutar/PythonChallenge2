{
 "cells": [
  {
   "cell_type": "code",
   "execution_count": 1,
   "metadata": {},
   "outputs": [],
   "source": [
    "import pandas as pd"
   ]
  },
  {
   "cell_type": "code",
   "execution_count": 7,
   "metadata": {},
   "outputs": [],
   "source": [
    "#import module operator \n",
    "election = pd.read_csv(\"Election.csv\")"
   ]
  },
  {
   "cell_type": "code",
   "execution_count": 8,
   "metadata": {},
   "outputs": [
    {
     "data": {
      "text/html": [
       "<div>\n",
       "<style scoped>\n",
       "    .dataframe tbody tr th:only-of-type {\n",
       "        vertical-align: middle;\n",
       "    }\n",
       "\n",
       "    .dataframe tbody tr th {\n",
       "        vertical-align: top;\n",
       "    }\n",
       "\n",
       "    .dataframe thead th {\n",
       "        text-align: right;\n",
       "    }\n",
       "</style>\n",
       "<table border=\"1\" class=\"dataframe\">\n",
       "  <thead>\n",
       "    <tr style=\"text-align: right;\">\n",
       "      <th></th>\n",
       "      <th>Candidate</th>\n",
       "      <th>County</th>\n",
       "      <th>Voter ID</th>\n",
       "    </tr>\n",
       "  </thead>\n",
       "  <tbody>\n",
       "    <tr>\n",
       "      <td>0</td>\n",
       "      <td>Dwight A. Boykins</td>\n",
       "      <td>Harris County</td>\n",
       "      <td>3363684</td>\n",
       "    </tr>\n",
       "    <tr>\n",
       "      <td>1</td>\n",
       "      <td>Bill King</td>\n",
       "      <td>Fort Bend County</td>\n",
       "      <td>6114041</td>\n",
       "    </tr>\n",
       "    <tr>\n",
       "      <td>2</td>\n",
       "      <td>Sylvester Turner</td>\n",
       "      <td>Fort Bend County</td>\n",
       "      <td>9143483</td>\n",
       "    </tr>\n",
       "    <tr>\n",
       "      <td>3</td>\n",
       "      <td>Bill King</td>\n",
       "      <td>Fort Bend County</td>\n",
       "      <td>3122710</td>\n",
       "    </tr>\n",
       "    <tr>\n",
       "      <td>4</td>\n",
       "      <td>Sylvester Turner</td>\n",
       "      <td>Montgomery County</td>\n",
       "      <td>6824440</td>\n",
       "    </tr>\n",
       "  </tbody>\n",
       "</table>\n",
       "</div>"
      ],
      "text/plain": [
       "           Candidate             County  Voter ID\n",
       "0  Dwight A. Boykins      Harris County   3363684\n",
       "1          Bill King   Fort Bend County   6114041\n",
       "2   Sylvester Turner   Fort Bend County   9143483\n",
       "3          Bill King   Fort Bend County   3122710\n",
       "4   Sylvester Turner  Montgomery County   6824440"
      ]
     },
     "execution_count": 8,
     "metadata": {},
     "output_type": "execute_result"
    }
   ],
   "source": [
    "election.head()"
   ]
  },
  {
   "cell_type": "code",
   "execution_count": 9,
   "metadata": {},
   "outputs": [
    {
     "data": {
      "text/plain": [
       "(65499, 3)"
      ]
     },
     "execution_count": 9,
     "metadata": {},
     "output_type": "execute_result"
    }
   ],
   "source": [
    "elections.shape"
   ]
  },
  {
   "cell_type": "code",
   "execution_count": 10,
   "metadata": {},
   "outputs": [],
   "source": [
    "import numpy as np"
   ]
  },
  {
   "cell_type": "code",
   "execution_count": 11,
   "metadata": {},
   "outputs": [],
   "source": [
    "Candidates = elections.groupby('Candidate')"
   ]
  },
  {
   "cell_type": "code",
   "execution_count": 12,
   "metadata": {},
   "outputs": [
    {
     "data": {
      "text/plain": [
       "Sylvester Turner        30438\n",
       "Tony Buzbee             18822\n",
       "Bill King                9150\n",
       "Dwight A. Boykins        3835\n",
       "Victoria Romero           803\n",
       "Sue Lovell                794\n",
       "Demetria Smith            474\n",
       "Roy J. Vasquez            445\n",
       "Kendall Baker             263\n",
       "Derrick Broze             183\n",
       "Johnny “J.T.” Taylor      149\n",
       "Naoufal Houjami           143\n",
       "Name: Candidate, dtype: int64"
      ]
     },
     "execution_count": 12,
     "metadata": {},
     "output_type": "execute_result"
    }
   ],
   "source": [
    "elections['Candidate'].value_counts()"
   ]
  },
  {
   "cell_type": "code",
   "execution_count": 13,
   "metadata": {},
   "outputs": [
    {
     "data": {
      "text/plain": [
       "Sylvester Turner        0.464709\n",
       "Tony Buzbee             0.287363\n",
       "Bill King               0.139697\n",
       "Dwight A. Boykins       0.058551\n",
       "Victoria Romero         0.012260\n",
       "Sue Lovell              0.012122\n",
       "Demetria Smith          0.007237\n",
       "Roy J. Vasquez          0.006794\n",
       "Kendall Baker           0.004015\n",
       "Derrick Broze           0.002794\n",
       "Johnny “J.T.” Taylor    0.002275\n",
       "Naoufal Houjami         0.002183\n",
       "Name: Candidate, dtype: float64"
      ]
     },
     "execution_count": 13,
     "metadata": {},
     "output_type": "execute_result"
    }
   ],
   "source": [
    "elections['Candidate'].value_counts(normalize=True)"
   ]
  },
  {
   "cell_type": "code",
   "execution_count": 14,
   "metadata": {},
   "outputs": [],
   "source": [
    "votes = elections['Candidate'].value_counts()"
   ]
  },
  {
   "cell_type": "code",
   "execution_count": 15,
   "metadata": {},
   "outputs": [],
   "source": [
    "percent = elections['Candidate'].value_counts(normalize=True)"
   ]
  },
  {
   "cell_type": "code",
   "execution_count": 16,
   "metadata": {},
   "outputs": [
    {
     "data": {
      "text/html": [
       "<div>\n",
       "<style scoped>\n",
       "    .dataframe tbody tr th:only-of-type {\n",
       "        vertical-align: middle;\n",
       "    }\n",
       "\n",
       "    .dataframe tbody tr th {\n",
       "        vertical-align: top;\n",
       "    }\n",
       "\n",
       "    .dataframe thead th {\n",
       "        text-align: right;\n",
       "    }\n",
       "</style>\n",
       "<table border=\"1\" class=\"dataframe\">\n",
       "  <thead>\n",
       "    <tr style=\"text-align: right;\">\n",
       "      <th></th>\n",
       "      <th>votes</th>\n",
       "      <th>percent</th>\n",
       "    </tr>\n",
       "  </thead>\n",
       "  <tbody>\n",
       "    <tr>\n",
       "      <td>Sylvester Turner</td>\n",
       "      <td>30438</td>\n",
       "      <td>0.464709</td>\n",
       "    </tr>\n",
       "    <tr>\n",
       "      <td>Tony Buzbee</td>\n",
       "      <td>18822</td>\n",
       "      <td>0.287363</td>\n",
       "    </tr>\n",
       "    <tr>\n",
       "      <td>Bill King</td>\n",
       "      <td>9150</td>\n",
       "      <td>0.139697</td>\n",
       "    </tr>\n",
       "    <tr>\n",
       "      <td>Dwight A. Boykins</td>\n",
       "      <td>3835</td>\n",
       "      <td>0.058551</td>\n",
       "    </tr>\n",
       "    <tr>\n",
       "      <td>Victoria Romero</td>\n",
       "      <td>803</td>\n",
       "      <td>0.012260</td>\n",
       "    </tr>\n",
       "    <tr>\n",
       "      <td>Sue Lovell</td>\n",
       "      <td>794</td>\n",
       "      <td>0.012122</td>\n",
       "    </tr>\n",
       "    <tr>\n",
       "      <td>Demetria Smith</td>\n",
       "      <td>474</td>\n",
       "      <td>0.007237</td>\n",
       "    </tr>\n",
       "    <tr>\n",
       "      <td>Roy J. Vasquez</td>\n",
       "      <td>445</td>\n",
       "      <td>0.006794</td>\n",
       "    </tr>\n",
       "    <tr>\n",
       "      <td>Kendall Baker</td>\n",
       "      <td>263</td>\n",
       "      <td>0.004015</td>\n",
       "    </tr>\n",
       "    <tr>\n",
       "      <td>Derrick Broze</td>\n",
       "      <td>183</td>\n",
       "      <td>0.002794</td>\n",
       "    </tr>\n",
       "    <tr>\n",
       "      <td>Johnny “J.T.” Taylor</td>\n",
       "      <td>149</td>\n",
       "      <td>0.002275</td>\n",
       "    </tr>\n",
       "    <tr>\n",
       "      <td>Naoufal Houjami</td>\n",
       "      <td>143</td>\n",
       "      <td>0.002183</td>\n",
       "    </tr>\n",
       "  </tbody>\n",
       "</table>\n",
       "</div>"
      ],
      "text/plain": [
       "                      votes   percent\n",
       "Sylvester Turner      30438  0.464709\n",
       "Tony Buzbee           18822  0.287363\n",
       "Bill King              9150  0.139697\n",
       "Dwight A. Boykins      3835  0.058551\n",
       "Victoria Romero         803  0.012260\n",
       "Sue Lovell              794  0.012122\n",
       "Demetria Smith          474  0.007237\n",
       "Roy J. Vasquez          445  0.006794\n",
       "Kendall Baker           263  0.004015\n",
       "Derrick Broze           183  0.002794\n",
       "Johnny “J.T.” Taylor    149  0.002275\n",
       "Naoufal Houjami         143  0.002183"
      ]
     },
     "execution_count": 16,
     "metadata": {},
     "output_type": "execute_result"
    }
   ],
   "source": [
    "pd.DataFrame({'votes': votes, 'percent': percent})"
   ]
  },
  {
   "cell_type": "code",
   "execution_count": null,
   "metadata": {},
   "outputs": [],
   "source": []
  }
 ],
 "metadata": {
  "kernelspec": {
   "display_name": "Python 3",
   "language": "python",
   "name": "python3"
  },
  "language_info": {
   "codemirror_mode": {
    "name": "ipython",
    "version": 3
   },
   "file_extension": ".py",
   "mimetype": "text/x-python",
   "name": "python",
   "nbconvert_exporter": "python",
   "pygments_lexer": "ipython3",
   "version": "3.7.4"
  }
 },
 "nbformat": 4,
 "nbformat_minor": 2
}
